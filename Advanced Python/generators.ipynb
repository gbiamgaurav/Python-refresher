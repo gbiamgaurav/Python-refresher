{
 "cells": [
  {
   "cell_type": "markdown",
   "metadata": {},
   "source": [
    "### Generators in Python"
   ]
  },
  {
   "cell_type": "code",
   "execution_count": 23,
   "metadata": {},
   "outputs": [],
   "source": [
    "def square(n):\n",
    "    for i in range(0, n+1):\n",
    "        yield i ** 2"
   ]
  },
  {
   "cell_type": "code",
   "execution_count": 24,
   "metadata": {},
   "outputs": [
    {
     "data": {
      "text/plain": [
       "<generator object square at 0x0000020DA66A27A0>"
      ]
     },
     "execution_count": 24,
     "metadata": {},
     "output_type": "execute_result"
    }
   ],
   "source": [
    "square(10)"
   ]
  },
  {
   "cell_type": "code",
   "execution_count": 25,
   "metadata": {},
   "outputs": [
    {
     "name": "stdout",
     "output_type": "stream",
     "text": [
      "0\n",
      "1\n",
      "4\n",
      "9\n"
     ]
    }
   ],
   "source": [
    "for i in square(3):\n",
    "    print(i)"
   ]
  },
  {
   "cell_type": "code",
   "execution_count": 26,
   "metadata": {},
   "outputs": [
    {
     "name": "stdout",
     "output_type": "stream",
     "text": [
      "0\n",
      "1\n",
      "4\n",
      "9\n",
      "16\n",
      "25\n",
      "36\n",
      "49\n",
      "64\n",
      "81\n",
      "100\n"
     ]
    }
   ],
   "source": [
    "for i in square(10):\n",
    "    print(i)"
   ]
  },
  {
   "cell_type": "code",
   "execution_count": 27,
   "metadata": {},
   "outputs": [
    {
     "data": {
      "text/plain": [
       "<generator object square at 0x0000020DA66A1FC0>"
      ]
     },
     "execution_count": 27,
     "metadata": {},
     "output_type": "execute_result"
    }
   ],
   "source": [
    "a = square(10)\n",
    "a"
   ]
  },
  {
   "cell_type": "code",
   "execution_count": 39,
   "metadata": {},
   "outputs": [
    {
     "name": "stdout",
     "output_type": "stream",
     "text": [
      "No elements in the generator\n"
     ]
    }
   ],
   "source": [
    "try:\n",
    "    print(next(a))\n",
    "except StopIteration:\n",
    "    print(\"No elements in the generator\")"
   ]
  },
  {
   "cell_type": "code",
   "execution_count": 40,
   "metadata": {},
   "outputs": [],
   "source": [
    "def my_gen():\n",
    "    yield 1 \n",
    "    yield 2 \n",
    "    yield 3"
   ]
  },
  {
   "cell_type": "code",
   "execution_count": 41,
   "metadata": {},
   "outputs": [
    {
     "data": {
      "text/plain": [
       "<generator object my_gen at 0x0000020DA5F4E610>"
      ]
     },
     "execution_count": 41,
     "metadata": {},
     "output_type": "execute_result"
    }
   ],
   "source": [
    "gen = my_gen()\n",
    "gen"
   ]
  },
  {
   "cell_type": "code",
   "execution_count": 45,
   "metadata": {},
   "outputs": [
    {
     "name": "stdout",
     "output_type": "stream",
     "text": [
      "No elements in the generator\n"
     ]
    }
   ],
   "source": [
    "try:\n",
    "    print(next(gen))\n",
    "except StopIteration:\n",
    "    print(\"No elements in the generator\")"
   ]
  },
  {
   "cell_type": "code",
   "execution_count": 48,
   "metadata": {},
   "outputs": [
    {
     "data": {
      "text/plain": [
       "<generator object my_gen at 0x0000020DA5F4ECF0>"
      ]
     },
     "execution_count": 48,
     "metadata": {},
     "output_type": "execute_result"
    }
   ],
   "source": [
    "gen = my_gen()\n",
    "gen"
   ]
  },
  {
   "cell_type": "code",
   "execution_count": 49,
   "metadata": {},
   "outputs": [
    {
     "name": "stdout",
     "output_type": "stream",
     "text": [
      "1\n",
      "2\n",
      "3\n"
     ]
    }
   ],
   "source": [
    "for val in gen:\n",
    "    print(val)"
   ]
  },
  {
   "cell_type": "code",
   "execution_count": 50,
   "metadata": {},
   "outputs": [],
   "source": [
    "def read_large_file(file_path):\n",
    "    with open(file_path, \"r\") as file:\n",
    "        for line in file:\n",
    "            yield line "
   ]
  },
  {
   "cell_type": "code",
   "execution_count": 51,
   "metadata": {},
   "outputs": [
    {
     "name": "stdout",
     "output_type": "stream",
     "text": [
      "\n",
      "Presidential elections were held in the United States on November 5, 2024.[a] The Republican Party's ticket—Donald Trump, who was the 45th president of the United States from 2017 to 2021, and JD Vance, the junior U.S. senator from Ohio—defeated the Democratic Party's ticket—Kamala Harris, the incumbent U.S. vice president, and Tim Walz, the 41st governor of Minnesota.[4][7]\n",
      "\n",
      "The incumbent president, Joe Biden of the Democratic Party, initially ran for re-election as the party's presumptive nominee.[8][9] However, Biden's performance in the June 2024 presidential debate intensified concerns about his age and health, leading to calls within his party for him to leave the race.[10] After initially declining to withdraw, Biden ended his re-election campaign on July 21.[11] Biden endorsed Harris as his successor,[12] and she was voted the party's nominee by Democratic delegates on August 5. Harris selected Walz as her running mate.[13][14]\n",
      "\n",
      "Trump, who lost the 2020 presidential election to Biden, ran for re-election again.[15] He was nominated during the 2024 Republican National Convention alongside his running mate, Vance. The Trump campaign made many false and misleading statements, including the claim that the 2020 election was stolen from Trump.[16][17][18][19] Trump engaged in anti-immigrant fearmongering[b] and promoted conspiracy theories.[20][21] His political movement was described by historians and former Trump administration officials as authoritarian, featuring parallels to fascism and using dehumanizing rhetoric toward his political opponents.[c][d]\n",
      "\n",
      "Trump won the Electoral College with 312 electoral votes, while Harris received 226. Trump won every swing state, including the first win of Nevada by Republicans since 2004; he also won all of the states that he had won in 2020.[22][23][24] Trump won the national popular vote with a plurality of 49.8%,[25] making him the first Republican to win the popular vote since George W. Bush in 2004.[26][27] Relative to the 2020 election, he improved his vote share among working-class voters, particularly among young men, those without college degrees, and Hispanic voters.[28] Trump became the first person since Grover Cleveland in 1892[29] to be elected to a non-consecutive second term.\n",
      "\n",
      "According to polls, the most important issues for voters were the economy,[30] healthcare,[31] democracy,[32][33] foreign policy (notably U.S. support for Israel and for Ukraine),[34] illegal immigration,[35][36] abortion,[37][38][39] and climate change.[40][41][42] Education and LGBTQ rights were also prominent issues in the campaign.[43][44] Polled voters consistently cited the economy, particularly inflation, as the most important issue in the election.[30][40] Analysts attributed Harris' loss to the 2021–2023 inflation surge,[45][46] a global anti-incumbent wave,[47][48][49][50] the unpopularity of the Biden administration,[51][52][53][54] Trump's gains with the working class,[55][56][57] and immigration issues.\n",
      "\n",
      "Background\n",
      "\n",
      "A general election absentee ballot, listing the presidential and vice presidential candidates\n",
      "Further information: United States presidential election § Procedure\n",
      "Trump is the first president in American history to be impeached twice, and the first to run again after impeachment. As Trump was acquitted by the Senate in both cases, he was not barred from seeking reelection to the presidency in 2024.[58]\n",
      "\n",
      "\n",
      "Hexagonal cartogram of the number of electoral college votes. States with opposite outcomes from 2020 are hatched.\n",
      "The 2024 presidential election was the first presidential election to occur after the reapportionment of votes in the Electoral College following the 2020 United States census and redistricting cycle.[59][60][61] The seven swing states in the 2024 election were the Rust Belt states of Wisconsin, Michigan, and Pennsylvania, as well as the Sun Belt states of Arizona, Georgia, Nevada, and North Carolina.[62] The three Midwestern swing states had historically been part of the \"blue wall\" ever since Bill Clinton's win in 1992, but broke for Trump in his 2016 victory over Hillary Clinton.[63][64][65]\n",
      "\n",
      "Election interference\n",
      "Main article: Election interference\n",
      "Further information: Republican efforts to restrict voting following the 2020 presidential election, Attempts to overturn the 2020 United States presidential election, and January 6 United States Capitol attack\n",
      "Several state courts and officials, including the Colorado Supreme Court,[66] a state Circuit Court in Illinois,[67] and the Secretary of State of Maine,[68] ruled that Trump was ineligible to hold office under Section 3 of the Fourteenth Amendment to the United States Constitution for his role in the January 6 Capitol attack, and thus attempted to disqualify him from appearing on the ballot.[69][68] These attempts were unsuccessful. On March 4, 2024, the U.S. Supreme Court unanimously ruled in Trump v. Anderson that states cannot determine eligibility for a national election under Section 3. The Court held that only Congress has the authority to disqualify candidates, or to pass legislation that allows courts to do so.[70]\n",
      "\n",
      "Donald Trump's false claims of interference\n",
      "Further information: Big lie § Donald Trump's false claims of a stolen election, Election denial movement in the United States, and Republican Party efforts to disrupt the 2024 United States presidential election\n"
     ]
    }
   ],
   "source": [
    "file_path = \"sample.txt\"\n",
    "\n",
    "for line in read_large_file(file_path):\n",
    "    print(line.strip())"
   ]
  },
  {
   "cell_type": "code",
   "execution_count": null,
   "metadata": {},
   "outputs": [],
   "source": []
  }
 ],
 "metadata": {
  "kernelspec": {
   "display_name": "oop",
   "language": "python",
   "name": "python3"
  },
  "language_info": {
   "codemirror_mode": {
    "name": "ipython",
    "version": 3
   },
   "file_extension": ".py",
   "mimetype": "text/x-python",
   "name": "python",
   "nbconvert_exporter": "python",
   "pygments_lexer": "ipython3",
   "version": "3.12.0"
  }
 },
 "nbformat": 4,
 "nbformat_minor": 2
}
